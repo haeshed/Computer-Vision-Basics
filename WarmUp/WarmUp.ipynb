{
 "cells": [
  {
   "cell_type": "markdown",
   "id": "daf749b0",
   "metadata": {},
   "source": [
    " #  <span style=\"color:blue\">Computer Vision - Fall 2023\n",
    "\n",
    "**Lecturer:** Prof Yael Moses, Reichman\n",
    "\n",
    "**TA:** Eyal Friedma\n",
    "\n",
    "Submission date: Not for submission\n",
    "\n",
    "In this exercise, you'll practice using Jupyter notebook and run some basic functions, including those that involve working with images.\n",
    "\n",
    "If you have any questions, please post them on the course Piazza. However, make sure to read your friends' posts before posting your own query.\n",
    "\n",
    "Feel free to respond to your friends' questions or share something you've learned with the class on Piazza.\n",
    "\n",
    "\n",
    "\n",
    "# <span style=\"color:blue\"> Python's Examples \n",
    "* Setting up Python libraries \n",
    "* Arrays:\n",
    "    - Definition\n",
    "    - Properties\n",
    "    - Elements  (index, first, last, a set)\n",
    "    - Statistic functions\n",
    "    - Algebric operations (Transpose, element wise operations,  matrix operations)\n",
    "* Plot graphs\n",
    "* Images: \n",
    "    - Read/write/display \n",
    "    - Basic operations on images\n"
   ]
  },
  {
   "cell_type": "code",
   "execution_count": null,
   "id": "ab5faa3f",
   "metadata": {},
   "outputs": [],
   "source": [
    "!pip install opencv-python\n"
   ]
  },
  {
   "cell_type": "code",
   "execution_count": null,
   "id": "c7f5f33f",
   "metadata": {},
   "outputs": [],
   "source": [
    "# You need the following libraries in all your assignments \n",
    "\n",
    "import numpy as np\n",
    "import cv2\n",
    "import matplotlib.pyplot as plt\n",
    "from scipy.signal import convolve2d    #This is for convolution operation which we will learn in class\n",
    "\n"
   ]
  },
  {
   "cell_type": "markdown",
   "id": "6300009f",
   "metadata": {},
   "source": [
    "<span style=\"color:blue\"> Simple example for if then else"
   ]
  },
  {
   "cell_type": "code",
   "execution_count": null,
   "id": "a0f69d0b",
   "metadata": {},
   "outputs": [],
   "source": [
    "x=6\n",
    "\n",
    "if x>4 :\n",
    "    print('Big')\n",
    "else:\n",
    "    print(x)"
   ]
  },
  {
   "cell_type": "code",
   "execution_count": null,
   "id": "ee99830e",
   "metadata": {},
   "outputs": [],
   "source": [
    "print('Big') if x>4 else print(x)\n",
    "    "
   ]
  },
  {
   "cell_type": "markdown",
   "id": "5861e93c",
   "metadata": {},
   "source": [
    "# <span style=\"color:blue\">Arrays  "
   ]
  },
  {
   "cell_type": "markdown",
   "id": "b88fd941",
   "metadata": {},
   "source": [
    " <span style=\"color:blue\">Array Definition"
   ]
  },
  {
   "cell_type": "code",
   "execution_count": null,
   "id": "9747ba64",
   "metadata": {},
   "outputs": [],
   "source": [
    "A=np.array([[1,2,3,4,5],[6,7,8,9,10]])        # Define a 2D array by values\n",
    "M_zeros = np.zeros((7,5), np.uint8)            # Define a 2D array zero array by size and type\n",
    "M_ones=np.ones((7,5), np.float32)             # Define a 2D array zero array by size and type\n",
    "\n",
    "print('The values of A:\\n',A)\n",
    "print('The values of M_zeros:\\n',M_zeros)\n",
    "print('The values of M_ones:\\n',M_ones)\n",
    "\n",
    "\n"
   ]
  },
  {
   "cell_type": "markdown",
   "id": "ee2d44b4",
   "metadata": {},
   "source": [
    " <span style=\"color:blue\">Array Properties"
   ]
  },
  {
   "cell_type": "code",
   "execution_count": null,
   "id": "6375e211",
   "metadata": {},
   "outputs": [],
   "source": [
    "\n",
    "print('The shape of A:', A.shape)\n",
    "print('\\n')\n",
    "print('The shape of A is also given by:',np.shape(A))\n",
    "print('\\n')\n",
    "print('The shape of M_ones:', M_ones.shape)\n",
    "print('\\n')\n",
    "print('The type of the data in A:', A.dtype)\n",
    "\n"
   ]
  },
  {
   "cell_type": "markdown",
   "id": "45abafa1",
   "metadata": {},
   "source": [
    " <span style=\"color:blue\"> Aray elements"
   ]
  },
  {
   "cell_type": "code",
   "execution_count": null,
   "id": "2e3ce1fe",
   "metadata": {},
   "outputs": [],
   "source": [
    "print('The second element in the first row of A:', A[0,1])\n",
    "print('\\n')\n",
    "print('The last element in the first row:', A[0,-1] )\n",
    "print('\\n')\n",
    "print('The second row, all elemets from the third one up to the end', A[1,2:])\n",
    "print('\\n')\n",
    "\n"
   ]
  },
  {
   "cell_type": "markdown",
   "id": "cfa2d7f1",
   "metadata": {},
   "source": [
    " <span style=\"color:blue\">Statistic functions on the array elements"
   ]
  },
  {
   "cell_type": "code",
   "execution_count": null,
   "id": "70bf2f75",
   "metadata": {},
   "outputs": [],
   "source": [
    "print('The maximum value in A:', np.max(A))               #You can also try min, median, mean, etc.\n",
    "print('An alternative way to compute it:', A.max())       #You can also try min, midean, avg, etc.\n",
    "print('\\n')\n",
    "print('The maximum value in each column of A:', A.min(0)) \n",
    "print('An alternative way to compute it:', A.max(axis = 0)) # an alternative manner for the same operation\n",
    "print('\\n')\n",
    "print('The maximum value in each row of A:', A.max(1))"
   ]
  },
  {
   "cell_type": "code",
   "execution_count": null,
   "id": "7fe35865",
   "metadata": {},
   "outputs": [],
   "source": [
    "\"Returns the index of  value\"\n",
    "loc = np.unravel_index(np.argmax(A, axis=None), A.shape)\n",
    "loc = np.unravel_index(6, A.shape)\n",
    "print('The max value of A is: {0}, at coordinates: {1} '\n",
    "      .format(np.max(A), loc))\n",
    "\n"
   ]
  },
  {
   "cell_type": "markdown",
   "id": "664c366e",
   "metadata": {},
   "source": [
    " <span style=\"color:blue\"> Mathematical operations on arrays"
   ]
  },
  {
   "cell_type": "code",
   "execution_count": null,
   "id": "38fda9cd",
   "metadata": {},
   "outputs": [],
   "source": [
    "# Operations on elements\n",
    "print('The matrix A:\\n',A)\n",
    "B=A+1                     # B has the same shape as A but '1' is added to each  of A  values\n",
    "print('\\n The matrix B:\\n',B)\n",
    "print('\\n')\n",
    "print(2*A)                # Scalar multiplication\n",
    "print('\\n')\n",
    "print(A**2)               # Elementwise power \n",
    "\n",
    "print('\\n')\n",
    "print(A*B)                # Elementwise multiplication operator\n",
    "print('\\n')\n",
    "print(A**B)               # Elementwise power operator where the power is determined by corresponing B values.\n"
   ]
  },
  {
   "cell_type": "markdown",
   "id": "c361cea7",
   "metadata": {},
   "source": [
    " <span style=\"color:blue\"> Tranpose "
   ]
  },
  {
   "cell_type": "code",
   "execution_count": null,
   "id": "d61adcc3",
   "metadata": {},
   "outputs": [],
   "source": [
    "print(A.T)\n",
    "C=A.T\n",
    "\n",
    "np.shape(C)"
   ]
  },
  {
   "cell_type": "markdown",
   "id": "da6a5e64",
   "metadata": {},
   "source": [
    "<span style=\"color:blue\">  Logic operations:"
   ]
  },
  {
   "cell_type": "code",
   "execution_count": null,
   "id": "22afb9c8",
   "metadata": {
    "scrolled": true
   },
   "outputs": [],
   "source": [
    "C = np.array([[0, 0, 1, 1],[1, 1, 0, 0]])\n",
    "D = np.array([[0, 1, 1, 0],[0, 0, 1, 1]])\n",
    "\n",
    "print(C & D)\n",
    "print(C | D)"
   ]
  },
  {
   "cell_type": "markdown",
   "id": "c0e6b1c4",
   "metadata": {},
   "source": [
    "<span style=\"color:blue\">  Element wise *, ^"
   ]
  },
  {
   "cell_type": "code",
   "execution_count": null,
   "id": "12c06376",
   "metadata": {},
   "outputs": [],
   "source": [
    "print('The matrix A:\\n',A)\n",
    "B=A+1                     # B has the same shape of a but the values of its elements are increased  by 1 \n",
    "print('\\n The matrix B:\\n',B)\n",
    "# Element wise multiplication\n",
    "print('\\n', A*B)             \n",
    "\n",
    "# Element wise power\n",
    "\n",
    "print('\\n\\n', A**B)"
   ]
  },
  {
   "cell_type": "markdown",
   "id": "c22dec0d",
   "metadata": {},
   "source": [
    "<span style=\"color:blue\"> Matrix multiplication @"
   ]
  },
  {
   "cell_type": "code",
   "execution_count": null,
   "id": "b4b7e9e2",
   "metadata": {},
   "outputs": [],
   "source": [
    "print(A @ B.T)\n",
    "print(A.T @ B)"
   ]
  },
  {
   "cell_type": "markdown",
   "id": "193a867f",
   "metadata": {},
   "source": [
    "\n"
   ]
  },
  {
   "cell_type": "markdown",
   "id": "21b6d19d",
   "metadata": {},
   "source": [
    " <span style=\"color:blue\"> Making a stripes' array:"
   ]
  },
  {
   "cell_type": "code",
   "execution_count": null,
   "id": "e1520189",
   "metadata": {
    "scrolled": true
   },
   "outputs": [],
   "source": [
    "M_stripes = np.copy(M_zeros)     # M_zeros is defined before\n",
    "M_stripes[(1,3,5),:]=1\n",
    "print(M_stripes)\n"
   ]
  },
  {
   "cell_type": "markdown",
   "id": "08a5d4a6",
   "metadata": {},
   "source": [
    " <span style=\"color:blue\"> Connected components\n",
    "    "
   ]
  },
  {
   "cell_type": "code",
   "execution_count": null,
   "id": "15d1f24a",
   "metadata": {},
   "outputs": [],
   "source": [
    "# Finding the connected components in a given array:\n",
    "# The labels represent the number of components\n",
    "# the connected_mat is an array where each connected component has a unique ID number (integer)\n",
    "labels, connected_mat = cv2.connectedComponents(M_stripes, connectivity=8)\n",
    "print(connected_mat)\n",
    "print('The number of different labels is', labels)\n",
    "\n"
   ]
  },
  {
   "cell_type": "markdown",
   "id": "f5f8ec51",
   "metadata": {},
   "source": [
    "# <span style=\"color:blue\">  Plots and figures\n"
   ]
  },
  {
   "cell_type": "code",
   "execution_count": null,
   "id": "850853b5",
   "metadata": {},
   "outputs": [],
   "source": [
    "# specify the way plots behave in jupyter notebook\n",
    "%matplotlib inline\n",
    "plt.rcParams['figure.figsize'] = (4.0, 4.0) # set default size of plots\n",
    "plt.rcParams['image.interpolation'] = 'nearest'\n",
    "plt.rcParams['image.cmap'] = 'gray'\n"
   ]
  },
  {
   "cell_type": "code",
   "execution_count": null,
   "id": "2c6bb5e3",
   "metadata": {},
   "outputs": [],
   "source": [
    "# Generate x values from -10 to 10\n",
    "x=np.linspace(-10,10,21)\n",
    "print(x)\n",
    "\n",
    "y=x**2\n",
    "print(y)\n"
   ]
  },
  {
   "cell_type": "code",
   "execution_count": null,
   "id": "d14b8cda",
   "metadata": {},
   "outputs": [],
   "source": [
    "plt.plot(x, y)\n",
    "plt.xlabel('x')\n",
    "plt.ylabel('$x^2$')\n",
    "plt.title('Parabola')\n",
    "plt.grid(True)\n",
    "plt.show()"
   ]
  },
  {
   "cell_type": "code",
   "execution_count": null,
   "id": "4378533a",
   "metadata": {},
   "outputs": [],
   "source": [
    "\n",
    "# Generate x values from 0 to 2*pi (one complete cycle)\n",
    "x = np.linspace(0, 2 * np.pi, 100)  # 100 points between 0 and 2*pi\n",
    "\n",
    "# Calculate corresponding y values (sin(x))\n",
    "y = np.sin(x)\n",
    "\n",
    "# Plotting the sine function\n",
    "plt.plot(x, y)\n",
    "plt.xlabel('x')\n",
    "plt.ylabel('sin(x)')\n",
    "plt.title('Sine Function')\n",
    "plt.grid(True)\n",
    "plt.show()"
   ]
  },
  {
   "cell_type": "code",
   "execution_count": null,
   "id": "9ae1f79a",
   "metadata": {},
   "outputs": [],
   "source": [
    "# This is an example of 3D plot when applying a function \n",
    "\n",
    "x = np.linspace(-5, 5, 11) #array of x values\n",
    "y = np.linspace(-5, 5, 11) #array of y values\n",
    "print(x)\n",
    "x, y = np.meshgrid(x, y)  # Create a grid of points\n",
    "\n",
    "def Gaussian(x, y,sig=1):\n",
    "    return (1/(2*np.pi*sig**2))*np.exp(-(np.square(x) + np.square(y))/(2*sig**2))\n",
    "\n",
    "sig=2               # parameter\n",
    "G=Gaussian(x,y,2)\n",
    "\n",
    "\n",
    "fig = plt.figure()\n",
    "ax = fig.add_subplot(111, projection='3d')\n",
    "\n",
    "# Plotting the 3D surface\n",
    "surf = ax.plot_surface(x, y, G, cmap='viridis')\n",
    "\n",
    "ax.set_xlabel('X-axis')\n",
    "ax.set_ylabel('Y-axis')\n",
    "ax.set_zlabel('Z-axis')\n",
    "ax.set_title('Gaussian 3D Surface')\n",
    "\n",
    "# Plotting in 3D\n",
    "plt.show()"
   ]
  },
  {
   "cell_type": "markdown",
   "id": "11af3f78",
   "metadata": {},
   "source": [
    "# <span style=\"color:blue\"> Your Part\n",
    "    \n",
    "    "
   ]
  },
  {
   "cell_type": "markdown",
   "id": "3371a907",
   "metadata": {},
   "source": [
    "1. What is the shape of G?\n",
    "2. Add a function that  normalizes the values in G such that the sum of its elements is 1.\n",
    "2. Add a function that plots the Gaussian values along the x axis where the y value equals to 0."
   ]
  },
  {
   "cell_type": "markdown",
   "id": "fe56f5a9",
   "metadata": {},
   "source": [
    "# <span style=\"color:blue\"> Images"
   ]
  },
  {
   "cell_type": "code",
   "execution_count": null,
   "id": "8c9ed795",
   "metadata": {},
   "outputs": [],
   "source": [
    "im_gray = cv2.imread('yami.jpg', cv2.IMREAD_GRAYSCALE)  # Read a color image as a Greyscale image\n",
    "print('The shape of im_gray:', im_gray.shape,'\\n')\n",
    "\n",
    "print('The  value of a pixel:',im_gray[10,100],'\\n')\n",
    "\n",
    "print('The the value of a set of  pixels')\n",
    "print(im_gray[10,100:110],'\\n')\n",
    "\n",
    "\n",
    "im_color= cv2.imread('yami.jpg', cv2.IMREAD_COLOR)      # Read a color image (it is read as BGR)\n",
    "im_color = cv2.cvtColor(im_color, cv2.COLOR_BGR2RGB)    # Make it RGB (try without this line and see ..)\n",
    "                                            # To transfer a color image to gray scale use cv2.COLOR_BGR2GRAY\n",
    "print('The shape of im_color:')\n",
    "print(im_color.shape,'\\n')\n",
    "\n",
    "print('The  value of a pixel:')\n",
    "print(im_color[10,100,:])                                  "
   ]
  },
  {
   "cell_type": "code",
   "execution_count": null,
   "id": "82106009",
   "metadata": {
    "scrolled": true
   },
   "outputs": [],
   "source": [
    "import matplotlib.pyplot as plt \n",
    "\n",
    "# This specifies the way plots behave in jupyter notebook\n",
    "\n",
    "plt.rcParams['figure.figsize'] = (8.0, 8.0) # set default size of plots on the screen\n",
    "#plt.rcParams['image.cmap'] = 'gray'\n",
    "\n",
    "plt.imshow(im_gray), \n",
    "plt.title('Gray image')"
   ]
  },
  {
   "cell_type": "code",
   "execution_count": null,
   "id": "d1f87588",
   "metadata": {},
   "outputs": [],
   "source": [
    "plt.rcParams['figure.figsize'] = (14.0, 4.0) \n",
    "f, ((ax1, ax2)) = plt.subplots(1, 2, sharex='col', sharey='row')\n",
    "\n",
    "ax1.imshow(im_gray), ax1.set_title('Gray image')\n",
    "ax2.imshow(im_color), ax2.set_title('Color image')\n"
   ]
  },
  {
   "cell_type": "code",
   "execution_count": null,
   "id": "580e4133",
   "metadata": {
    "scrolled": true
   },
   "outputs": [],
   "source": [
    "im_BW=np.copy(im_gray)                      \n",
    "th=180\n",
    "im_BW[im_BW>th]=255\n",
    "im_BW[im_BW<=th]=0\n",
    "plt.rcParams['figure.figsize'] = (14.0, 4.0) \n",
    "f, ((ax1, ax2)) = plt.subplots(1, 2, sharex='col', sharey='row')\n",
    "ax1.imshow(im_gray), ax1.set_title('Gray image')\n",
    "ax2.imshow(im_BW), ax2.set_title('Threshold image')"
   ]
  },
  {
   "cell_type": "markdown",
   "id": "f241e704",
   "metadata": {},
   "source": [
    "# <span style=\"color:blue\"> Your Part"
   ]
  },
  {
   "cell_type": "markdown",
   "id": "f55cb97e",
   "metadata": {},
   "source": [
    "1. Choose your own image.\n",
    "2. Read it as a grey scale.\n",
    "3. Threshold the image using a threshold parameter.\n",
    "4. Compute the nAumber of connected components in the thresholded image.\n",
    "5. Find the connected componenets with the bigger number of pixels.\n",
    "6. Show the original image with  the pixels of the connected component you found in 5 and set the rest to black."
   ]
  }
 ],
 "metadata": {
  "kernelspec": {
   "display_name": "Python 3 (ipykernel)",
   "language": "python",
   "name": "python3"
  },
  "language_info": {
   "codemirror_mode": {
    "name": "ipython",
    "version": 3
   },
   "file_extension": ".py",
   "mimetype": "text/x-python",
   "name": "python",
   "nbconvert_exporter": "python",
   "pygments_lexer": "ipython3",
   "version": "3.9.7"
  }
 },
 "nbformat": 4,
 "nbformat_minor": 5
}
