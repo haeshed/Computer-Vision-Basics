# Test case 1
L_points = np.array([[1, 2], [3, 4], [5, 6]])
resolution_r = 0.1
resolution_ang = 0.01
H_matrix(L_points, resolution_r, resolution_ang)

# Test case 2
L_points = np.array([[0, 0], [0, 0], [0, 0]])
resolution_r = 0.01
resolution_ang = 0.001
H_matrix(L_points, resolution_r, resolution_ang)

# Test case 3
L_points = np.array([[1, 1], [2, 2], [3, 3], [4, 4]])
resolution_r = 0.5
resolution_ang = 0.05
H_matrix(L_points, resolution_r, resolution_ang)# Test case 1
L_points = np.array([[1, 2], [3, 4], [5, 6]])
resolution_r = 0.1
resolution_ang = 0.01
H_matrix(L_points, resolution_r, resolution_ang)

# Test case 2
L_points = np.array([[0, 0], [0, 0], [0, 0]])
resolution_r = 0.01
resolution_ang = 0.001
H_matrix(L_points, resolution_r, resolution_ang)

# Test case 3
L_points = np.array([[1, 1], [2, 2], [3, 3], [4, 4]])
resolution_r = 0.5
resolution_ang = 0.05
H_matrix(L_points, resolution_r, resolution_ang)# Test case 1
L_points = np.array([[1, 2], [3, 4], [5, 6]])
resolution_r = 0.1
resolution_ang = 0.01
H_matrix(L_points, resolution_r, resolution_ang)

# Test case 2
L_points = np.array([[0, 0], [0, 0], [0, 0]])
resolution_r = 0.01
resolution_ang = 0.001
H_matrix(L_points, resolution_r, resolution_ang)

# Test case 3
L_points = np.array([[1, 1], [2, 2], [3, 3], [4, 4]])
resolution_r = 0.5
resolution_ang = 0.05
H_matrix(L_points, resolution_r, resolution_ang)